{
 "cells": [
  {
   "cell_type": "markdown",
   "metadata": {},
   "source": [
    "## Test the Saved Models From \"svm_kmeans_train.ipynb\" File With Handmade Teas Picture"
   ]
  },
  {
   "cell_type": "markdown",
   "metadata": {},
   "source": [
    "### Load the Kmeans Model"
   ]
  },
  {
   "cell_type": "code",
   "execution_count": 2,
   "metadata": {},
   "outputs": [],
   "source": [
    "import pickle \n",
    "\n",
    "with open('k_means_model.pkl', 'rb') as f:\n",
    "    k_means_model = pickle.load(f)"
   ]
  },
  {
   "cell_type": "code",
   "execution_count": 82,
   "metadata": {},
   "outputs": [
    {
     "name": "stdout",
     "output_type": "stream",
     "text": [
      "Actual Number\t Predicted Number\n",
      "0\t\t 7\n",
      "1\t\t 7\n",
      "2\t\t 7\n",
      "3\t\t 7\n",
      "4\t\t 7\n",
      "5\t\t 7\n",
      "6\t\t 7\n",
      "7\t\t 7\n",
      "8\t\t 7\n",
      "9\t\t 7\n"
     ]
    }
   ],
   "source": [
    "from sklearn.preprocessing import StandardScaler\n",
    "import numpy as np\n",
    "import matplotlib.pyplot as plt\n",
    "\n",
    "scaler = StandardScaler()\n",
    "print('Actual Number\\t Predicted Number')\n",
    "\n",
    "for i in range (0,10):\n",
    "    img = plt.imread(f\"pictures/{i}.bmp\")[:,:,0]\n",
    "\n",
    "    X_test = img.astype('float32') / 255\n",
    "    X_test = X_test.reshape(-1, 784)\n",
    "\n",
    "    X_test = X_test[0].reshape(1, -1) \n",
    "    scaled_X = scaler.fit_transform(X_test)\n",
    "    \n",
    "    pred = k_means_model.predict(scaled_X)\n",
    "    \n",
    "    print(f\"{i}\\t\\t {pred[0]}\")"
   ]
  },
  {
   "cell_type": "markdown",
   "metadata": {},
   "source": [
    "### test svm models\n"
   ]
  },
  {
   "cell_type": "code",
   "execution_count": 84,
   "metadata": {},
   "outputs": [
    {
     "name": "stdout",
     "output_type": "stream",
     "text": [
      "SVM Model 0\n",
      "Actual Number\t Predicted Number\n",
      "0\t\t 4\n",
      "1\t\t 4\n",
      "2\t\t 4\n",
      "3\t\t 4\n",
      "4\t\t 4\n",
      "5\t\t 4\n",
      "6\t\t 4\n",
      "7\t\t 4\n",
      "8\t\t 4\n",
      "9\t\t 4\n",
      "SVM Model 1\n",
      "Actual Number\t Predicted Number\n",
      "0\t\t 6\n",
      "1\t\t 6\n",
      "2\t\t 6\n",
      "3\t\t 6\n",
      "4\t\t 6\n",
      "5\t\t 6\n",
      "6\t\t 6\n",
      "7\t\t 6\n",
      "8\t\t 6\n",
      "9\t\t 6\n",
      "SVM Model 2\n",
      "Actual Number\t Predicted Number\n",
      "0\t\t 5\n",
      "1\t\t 5\n",
      "2\t\t 5\n",
      "3\t\t 5\n"
     ]
    },
    {
     "name": "stdout",
     "output_type": "stream",
     "text": [
      "4\t\t 5\n",
      "5\t\t 5\n",
      "6\t\t 5\n",
      "7\t\t 5\n",
      "8\t\t 5\n",
      "9\t\t 5\n",
      "SVM Model 3\n",
      "Actual Number\t Predicted Number\n",
      "0\t\t 5\n",
      "1\t\t 5\n",
      "2\t\t 5\n",
      "3\t\t 5\n",
      "4\t\t 5\n",
      "5\t\t 5\n",
      "6\t\t 5\n",
      "7\t\t 5\n",
      "8\t\t 5\n",
      "9\t\t 5\n",
      "SVM Model 4\n",
      "Actual Number\t Predicted Number\n",
      "0\t\t 0\n",
      "1\t\t 0\n",
      "2\t\t 0\n",
      "3\t\t 0\n",
      "4\t\t 0\n",
      "5\t\t 0\n",
      "6\t\t 0\n",
      "7\t\t 0\n",
      "8\t\t 0\n",
      "9\t\t 0\n",
      "SVM Model 5\n",
      "Actual Number\t Predicted Number\n",
      "0\t\t 5\n",
      "1\t\t 5\n",
      "2\t\t 5\n",
      "3\t\t 5\n",
      "4\t\t 5\n",
      "5\t\t 5\n",
      "6\t\t 5\n",
      "7\t\t 5\n",
      "8\t\t 5\n",
      "9\t\t 5\n",
      "SVM Model 6\n",
      "Actual Number\t Predicted Number\n",
      "0\t\t 5\n",
      "1\t\t 5\n",
      "2\t\t 5\n",
      "3\t\t 5\n",
      "4\t\t 5\n",
      "5\t\t 5\n",
      "6\t\t 5\n",
      "7\t\t 5\n",
      "8\t\t 5\n",
      "9\t\t 5\n",
      "SVM Model 7\n",
      "Actual Number\t Predicted Number\n",
      "0\t\t 5\n",
      "1\t\t 5\n",
      "2\t\t 5\n",
      "3\t\t 5\n",
      "4\t\t 5\n",
      "5\t\t 5\n",
      "6\t\t 5\n",
      "7\t\t 5\n",
      "8\t\t 5\n",
      "9\t\t 5\n"
     ]
    }
   ],
   "source": [
    "for i in range(8):\n",
    "    with open(f'svm_model{i}.pkl', 'rb') as f:\n",
    "        model = pickle.load(f)\n",
    "    print(f'SVM Model {i}')\n",
    "    print('Actual Number\\t Predicted Number')\n",
    "    \n",
    "    for i in range (0,10):\n",
    "        img = plt.imread(f\"pictures/{i}.bmp\")[:,:,0]\n",
    "\n",
    "        X_test = img.astype('float32') / 255\n",
    "        X_test = X_test.reshape(-1, 784)\n",
    "\n",
    "        X_test = X_test[0].reshape(1, -1) \n",
    "        scaled_X = scaler.fit_transform(X_test)\n",
    "        \n",
    "        pred = model.predict(scaled_X)\n",
    "        \n",
    "        print(f\"{i}\\t\\t {pred[0]}\")\n",
    "    "
   ]
  },
  {
   "cell_type": "markdown",
   "metadata": {},
   "source": []
  }
 ],
 "metadata": {
  "kernelspec": {
   "display_name": ".venv",
   "language": "python",
   "name": "python3"
  },
  "language_info": {
   "codemirror_mode": {
    "name": "ipython",
    "version": 3
   },
   "file_extension": ".py",
   "mimetype": "text/x-python",
   "name": "python",
   "nbconvert_exporter": "python",
   "pygments_lexer": "ipython3",
   "version": "3.10.12"
  }
 },
 "nbformat": 4,
 "nbformat_minor": 2
}
