{
 "cells": [
  {
   "cell_type": "markdown",
   "metadata": {},
   "source": [
    "## Test the Saved Models From \"svm_kmeans_train.ipynb\" File With Picture Extraction Test Picture"
   ]
  },
  {
   "cell_type": "markdown",
   "metadata": {},
   "source": [
    "#### Load Kmeans Model"
   ]
  },
  {
   "cell_type": "code",
   "execution_count": 1,
   "metadata": {},
   "outputs": [],
   "source": [
    "import pickle \n",
    "\n",
    "with open('k_means_model.pkl', 'rb') as f:\n",
    "    k_means_model = pickle.load(f)"
   ]
  },
  {
   "cell_type": "code",
   "execution_count": 2,
   "metadata": {},
   "outputs": [
    {
     "name": "stderr",
     "output_type": "stream",
     "text": [
      "qt.qpa.plugin: Could not find the Qt platform plugin \"wayland\" in \"/home/hossein/UNI/MFT/Machine Learning/.venv/lib/python3.10/site-packages/cv2/qt/plugins\"\n"
     ]
    },
    {
     "name": "stdout",
     "output_type": "stream",
     "text": [
      "this image prediction is 7\n",
      "this image prediction is 7\n",
      "this image prediction is 7\n",
      "this image prediction is 7\n",
      "this image prediction is 7\n",
      "this image prediction is 7\n"
     ]
    },
    {
     "ename": "",
     "evalue": "",
     "output_type": "error",
     "traceback": [
      "\u001b[1;31mThe Kernel crashed while executing code in the current cell or a previous cell. \n",
      "\u001b[1;31mPlease review the code in the cell(s) to identify a possible cause of the failure. \n",
      "\u001b[1;31mClick <a href='https://aka.ms/vscodeJupyterKernelCrash'>here</a> for more info. \n",
      "\u001b[1;31mView Jupyter <a href='command:jupyter.viewOutput'>log</a> for further details."
     ]
    }
   ],
   "source": [
    "from sklearn.preprocessing import StandardScaler\n",
    "scaler = StandardScaler()\n",
    "import cv2 as cv\n",
    "\n",
    "original_img = cv.imread(\"pictures/numbers.jpg\")\n",
    "\n",
    "gray = cv.cvtColor(original_img, cv.COLOR_BGR2GRAY)\n",
    "\n",
    "\n",
    "gray[gray < 50] = 0\n",
    "gray[gray >= 50] = 255\n",
    "\n",
    "contours, hierarchy = cv.findContours(gray, cv.RETR_EXTERNAL, cv.CHAIN_APPROX_NONE)\n",
    "\n",
    "for contour in contours:\n",
    "    img = original_img.copy()\n",
    "    x, y, w, h = cv.boundingRect(contour)\n",
    "    sub_img = gray[y:y + h + 1, x:x + w]\n",
    "    sub_img = cv.resize(sub_img, (28,28))\n",
    "    sub_img = sub_img.reshape(1, -1)\n",
    "    cv.imshow(\"single number\", sub_img)\n",
    "\n",
    "\n",
    "    img  = cv.drawContours(img, contour, -1, (0,255,0), 2)\n",
    "    cv.rectangle(img, (x, y), (x + w, y + h), (0, 0, 255), 2)\n",
    "\n",
    "    X_test = sub_img.astype('float32') / 255\n",
    "    X_test = X_test.reshape(-1, 784)\n",
    "\n",
    "    X_test = X_test[0].reshape(1, -1) \n",
    "    scaled_X = scaler.fit_transform(X_test)\n",
    "\n",
    "    pred = k_means_model.predict(scaled_X)\n",
    "    \n",
    "    print(f'this image prediction is {pred[0]}')\n",
    "\n",
    "    cv.imshow(\"num\", img)\n",
    "    cv.waitKey(0)"
   ]
  }
 ],
 "metadata": {
  "kernelspec": {
   "display_name": ".venv",
   "language": "python",
   "name": "python3"
  },
  "language_info": {
   "codemirror_mode": {
    "name": "ipython",
    "version": 3
   },
   "file_extension": ".py",
   "mimetype": "text/x-python",
   "name": "python",
   "nbconvert_exporter": "python",
   "pygments_lexer": "ipython3",
   "version": "3.10.12"
  }
 },
 "nbformat": 4,
 "nbformat_minor": 2
}
